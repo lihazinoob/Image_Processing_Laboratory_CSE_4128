{
 "cells": [
  {
   "cell_type": "code",
   "execution_count": 1,
   "id": "4cead877",
   "metadata": {},
   "outputs": [],
   "source": [
    "import cv2\n",
    "import numpy as np"
   ]
  },
  {
   "cell_type": "code",
   "execution_count": 2,
   "id": "d6391c43",
   "metadata": {},
   "outputs": [],
   "source": [
    "def create_x_kernel(sigma_value):\n",
    "  kernel_size = (7*sigma_value + 1)\n",
    "  # create a kernel of kernel_size\n",
    "  kernel = np.zeros((kernel_size,kernel_size),dtype=np.float32)\n",
    "  kernel_height,kernel_width = kernel.shape\n",
    "  # finding the center of the kernel\n",
    "  center_x = kernel_height // 2\n",
    "  center_y = kernel_width // 2\n",
    "    \n",
    "    # Put the value in (x,y) position on the basis of the Gaussian Smoothing Filter\n",
    "  for x in range(kernel_height):\n",
    "    for y in range(kernel_width):\n",
    "      # finding the distance between the center to a particular element\n",
    "      dx = x - center_x\n",
    "      dy = y - center_y\n",
    "      exponential_value = -((dx**2 + dy**2) / (2 * sigma_value**2))  # Fixed formula\n",
    "      gaussian_value = (1 / (2 * np.pi * sigma_value**2)) * np.exp(exponential_value)\n",
    "      value = (-dx/sigma_value**2)*gaussian_value\n",
    "      kernel[x, y] = value\n",
    "  \n",
    "  # kernel = kernel / np.sum(kernel)\n",
    "  return kernel"
   ]
  },
  {
   "cell_type": "code",
   "execution_count": 3,
   "id": "f817b98c",
   "metadata": {},
   "outputs": [],
   "source": [
    "def create_y_kernel(sigma_value):\n",
    "  kernel_size = (7*sigma_value + 1)\n",
    "  # create a kernel of kernel_size\n",
    "  kernel = np.zeros((kernel_size,kernel_size),dtype=np.float32)\n",
    "  kernel_height,kernel_width = kernel.shape\n",
    "  # finding the center of the kernel\n",
    "  center_x = kernel_height // 2\n",
    "  center_y = kernel_width // 2\n",
    "    \n",
    "    # Put the value in (x,y) position on the basis of the Gaussian Smoothing Filter\n",
    "  for x in range(kernel_height):\n",
    "    for y in range(kernel_width):\n",
    "      # finding the distance between the center to a particular element\n",
    "      dx = x - center_x\n",
    "      dy = y - center_y\n",
    "      exponential_value = -((dx**2 + dy**2) / (2 * sigma_value**2))  # Fixed formula\n",
    "      gaussian_value = (1 / (2 * np.pi * sigma_value**2)) * np.exp(exponential_value)\n",
    "      value = (-dy/sigma_value**2)*gaussian_value\n",
    "      kernel[x, y] = value\n",
    "  \n",
    "  # kernel = kernel / np.sum(kernel)\n",
    "  return kernel"
   ]
  },
  {
   "cell_type": "code",
   "execution_count": 4,
   "id": "534d56b1",
   "metadata": {},
   "outputs": [],
   "source": [
    "def threshold(image):\n",
    "  height,width = image.shape\n",
    "  for x in range(height):\n",
    "    for y in range(width):\n",
    "      if(image[x,y] >= 128):\n",
    "        image[x,y] = 255\n",
    "      elif(image[x,y]< 128 and image[x,y] >= 56):\n",
    "        image[x,y] = 128\n",
    "      else:\n",
    "        image[x,y] = 0\n",
    "  return image"
   ]
  },
  {
   "cell_type": "code",
   "execution_count": 5,
   "id": "1f3d6cec",
   "metadata": {},
   "outputs": [
    {
     "name": "stdout",
     "output_type": "stream",
     "text": [
      "x kernel is [[ 7.1642120e-08  2.3724610e-06  2.8902494e-05  1.2953198e-04\n",
      "   2.1356215e-04  1.2953198e-04  2.8902494e-05  2.3724610e-06]\n",
      " [ 1.7793458e-06  5.8923841e-05  7.1783934e-04  3.2171328e-03\n",
      "   5.3041549e-03  3.2171328e-03  7.1783934e-04  5.8923841e-05]\n",
      " [ 1.4451247e-05  4.7855955e-04  5.8300490e-03  2.6128467e-02\n",
      "   4.3078560e-02  2.6128467e-02  5.8300490e-03  4.7855955e-04]\n",
      " [ 3.2382995e-05  1.0723775e-03  1.3064234e-02  5.8549833e-02\n",
      "   9.6532352e-02  5.8549833e-02  1.3064234e-02  1.0723775e-03]\n",
      " [ 0.0000000e+00  0.0000000e+00  0.0000000e+00  0.0000000e+00\n",
      "   0.0000000e+00  0.0000000e+00  0.0000000e+00  0.0000000e+00]\n",
      " [-3.2382995e-05 -1.0723775e-03 -1.3064234e-02 -5.8549833e-02\n",
      "  -9.6532352e-02 -5.8549833e-02 -1.3064234e-02 -1.0723775e-03]\n",
      " [-1.4451247e-05 -4.7855955e-04 -5.8300490e-03 -2.6128467e-02\n",
      "  -4.3078560e-02 -2.6128467e-02 -5.8300490e-03 -4.7855955e-04]\n",
      " [-1.7793458e-06 -5.8923841e-05 -7.1783934e-04 -3.2171328e-03\n",
      "  -5.3041549e-03 -3.2171328e-03 -7.1783934e-04 -5.8923841e-05]]\n",
      "y kernel is [[ 7.1642120e-08  1.7793458e-06  1.4451247e-05  3.2382995e-05\n",
      "   0.0000000e+00 -3.2382995e-05 -1.4451247e-05 -1.7793458e-06]\n",
      " [ 2.3724610e-06  5.8923841e-05  4.7855955e-04  1.0723775e-03\n",
      "   0.0000000e+00 -1.0723775e-03 -4.7855955e-04 -5.8923841e-05]\n",
      " [ 2.8902494e-05  7.1783934e-04  5.8300490e-03  1.3064234e-02\n",
      "   0.0000000e+00 -1.3064234e-02 -5.8300490e-03 -7.1783934e-04]\n",
      " [ 1.2953198e-04  3.2171328e-03  2.6128467e-02  5.8549833e-02\n",
      "   0.0000000e+00 -5.8549833e-02 -2.6128467e-02 -3.2171328e-03]\n",
      " [ 2.1356215e-04  5.3041549e-03  4.3078560e-02  9.6532352e-02\n",
      "   0.0000000e+00 -9.6532352e-02 -4.3078560e-02 -5.3041549e-03]\n",
      " [ 1.2953198e-04  3.2171328e-03  2.6128467e-02  5.8549833e-02\n",
      "   0.0000000e+00 -5.8549833e-02 -2.6128467e-02 -3.2171328e-03]\n",
      " [ 2.8902494e-05  7.1783934e-04  5.8300490e-03  1.3064234e-02\n",
      "   0.0000000e+00 -1.3064234e-02 -5.8300490e-03 -7.1783934e-04]\n",
      " [ 2.3724610e-06  5.8923841e-05  4.7855955e-04  1.0723775e-03\n",
      "   0.0000000e+00 -1.0723775e-03 -4.7855955e-04 -5.8923841e-05]]\n"
     ]
    }
   ],
   "source": [
    "original_image = cv2.imread(\"../../data/Lena.jpg\",cv2.IMREAD_GRAYSCALE)\n",
    "\n",
    "# Now create the kernel by passing the sigma value\n",
    "x_kernel = create_x_kernel(sigma_value=1)\n",
    "y_kernel = create_y_kernel(sigma_value=1)\n",
    "\n",
    "# After creating the kernels convolve the image with those kernels\n",
    "convolved_x_image = cv2.filter2D(original_image,cv2.CV_32F,x_kernel)\n",
    "convolved_y_image = cv2.filter2D(original_image,cv2.CV_32F,y_kernel)\n",
    "\n",
    "accumulated_image = cv2.magnitude(convolved_x_image,convolved_y_image)\n",
    "\n",
    "\n",
    "\n",
    "# roundeing the image for showing purpose\n",
    "normed_x_image = np.round(cv2.normalize(convolved_x_image, None, 0, 255, cv2.NORM_MINMAX)).astype(np.uint8)\n",
    "normed_y_image = np.round(cv2.normalize(convolved_y_image, None, 0, 255, cv2.NORM_MINMAX)).astype(np.uint8)\n",
    "normed_accumulated_image = np.round(cv2.normalize(accumulated_image, None, 0, 255, cv2.NORM_MINMAX)).astype(np.uint8)\n",
    "\n",
    "# finding the gradient magnitude of them\n",
    "last_image = threshold(normed_accumulated_image)\n",
    "\n",
    "print(\"x kernel is\",x_kernel)\n",
    "print(\"y kernel is\",y_kernel)\n",
    "# show the original image\n",
    "cv2.imshow(\"Original Image\",original_image)\n",
    "cv2.imshow(\"Convolved at x-axis\",normed_x_image)\n",
    "cv2.imshow(\"Convolved at y-axis\",normed_y_image)\n",
    "cv2.imshow(\"Convolved accumulated image\",normed_accumulated_image)\n",
    "cv2.imshow(\"Convolved accumulated image\",last_image)\n",
    "cv2.waitKey(0)\n",
    "cv2.destroyAllWindows()"
   ]
  },
  {
   "cell_type": "code",
   "execution_count": null,
   "id": "12205a6b",
   "metadata": {},
   "outputs": [],
   "source": []
  }
 ],
 "metadata": {
  "kernelspec": {
   "display_name": "naveedVENV",
   "language": "python",
   "name": "python3"
  },
  "language_info": {
   "codemirror_mode": {
    "name": "ipython",
    "version": 3
   },
   "file_extension": ".py",
   "mimetype": "text/x-python",
   "name": "python",
   "nbconvert_exporter": "python",
   "pygments_lexer": "ipython3",
   "version": "3.9.0"
  }
 },
 "nbformat": 4,
 "nbformat_minor": 5
}
