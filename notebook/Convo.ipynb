{
 "cells": [
  {
   "cell_type": "code",
   "execution_count": 1,
   "id": "c0c34ddb",
   "metadata": {},
   "outputs": [
    {
     "name": "stdout",
     "output_type": "stream",
     "text": [
      "OpenCV version: <module 'cv2' from 'd:\\\\Learning,Education and Application\\\\Year 4th Term 1st\\\\Image ProcessingLab\\\\naveedVENV\\\\lib\\\\site-packages\\\\cv2\\\\__init__.py'>\n"
     ]
    }
   ],
   "source": [
    "import cv2\n",
    "import numpy as np\n",
    "\n",
    "print(\"OpenCV version:\", cv2)"
   ]
  },
  {
   "cell_type": "code",
   "execution_count": null,
   "id": "eb4cf3c8",
   "metadata": {},
   "outputs": [
    {
     "name": "stdout",
     "output_type": "stream",
     "text": [
      "(512, 512, 3)\n",
      "Kernel shape: 3\n"
     ]
    }
   ],
   "source": [
    "image = cv2.imread(\"Lena.jpg\")\n",
    "\n",
    "\n",
    "print(image.shape)\n",
    "\n",
    "\n",
    "# kernel definition\n",
    "kernel = np.array([\n",
    "    [-1, -1, -1],\n",
    "    [-1,  8, -1],\n",
    "    [-1, -1, -1]\n",
    "])\n",
    "\n",
    "print(\"Kernel shape:\", kernel.shape[0])\n"
   ]
  },
  {
   "cell_type": "code",
   "execution_count": null,
   "id": "03a955f9",
   "metadata": {},
   "outputs": [],
   "source": [
    "# function for convolution"
   ]
  }
 ],
 "metadata": {
  "kernelspec": {
   "display_name": "naveedVENV",
   "language": "python",
   "name": "python3"
  },
  "language_info": {
   "codemirror_mode": {
    "name": "ipython",
    "version": 3
   },
   "file_extension": ".py",
   "mimetype": "text/x-python",
   "name": "python",
   "nbconvert_exporter": "python",
   "pygments_lexer": "ipython3",
   "version": "3.9.0"
  }
 },
 "nbformat": 4,
 "nbformat_minor": 5
}
