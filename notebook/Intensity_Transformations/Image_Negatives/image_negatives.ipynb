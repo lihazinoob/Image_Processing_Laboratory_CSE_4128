{
 "cells": [
  {
   "cell_type": "code",
   "execution_count": 4,
   "id": "4a24e3f8",
   "metadata": {},
   "outputs": [],
   "source": [
    "import cv2\n",
    "import numpy as np\n",
    "import matplotlib.pyplot as plt"
   ]
  },
  {
   "cell_type": "code",
   "execution_count": 5,
   "id": "09ec6a23",
   "metadata": {},
   "outputs": [],
   "source": [
    "# function to negate an image or inverse an image\n",
    "def find_image_negatives(image):\n",
    "    image = 255-image\n",
    "    return image"
   ]
  },
  {
   "cell_type": "code",
   "execution_count": 6,
   "id": "e87a2acf",
   "metadata": {},
   "outputs": [],
   "source": [
    "original_image = cv2.imread(\"../../../data/Fig0304(a)(breast_digital_Xray).tif\", cv2.IMREAD_GRAYSCALE)\n",
    "cv2.imshow(\"Original Image\", original_image)\n",
    "\n",
    "negative_image = find_image_negatives(original_image)\n",
    "cv2.imshow(\"Negative Image\", negative_image)\n",
    "\n",
    "cv2.waitKey(0)\n",
    "cv2.destroyAllWindows()"
   ]
  }
 ],
 "metadata": {
  "kernelspec": {
   "display_name": "naveedVENV",
   "language": "python",
   "name": "python3"
  },
  "language_info": {
   "codemirror_mode": {
    "name": "ipython",
    "version": 3
   },
   "file_extension": ".py",
   "mimetype": "text/x-python",
   "name": "python",
   "nbconvert_exporter": "python",
   "pygments_lexer": "ipython3",
   "version": "3.9.0"
  }
 },
 "nbformat": 4,
 "nbformat_minor": 5
}
