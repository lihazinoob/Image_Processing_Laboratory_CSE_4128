{
 "cells": [
  {
   "cell_type": "code",
   "execution_count": 22,
   "id": "409ed3b7",
   "metadata": {},
   "outputs": [],
   "source": [
    "import cv2\n",
    "import numpy as np\n",
    "\n"
   ]
  },
  {
   "cell_type": "code",
   "execution_count": 23,
   "id": "45a9fd21",
   "metadata": {},
   "outputs": [],
   "source": [
    "  \n",
    "def Gamma_Transform(image,gamma):\n",
    "    img_float = image.astype(np.float32) / 255.0\n",
    "    \n",
    "    # apply gamma correction\n",
    "    gamma_corrected = np.power(img_float, gamma)\n",
    "    \n",
    "    # rescale back to [0,255]\n",
    "    gamma_corrected = np.uint8(gamma_corrected * 255)\n",
    "    \n",
    "    return gamma_corrected"
   ]
  },
  {
   "cell_type": "code",
   "execution_count": 24,
   "id": "87d09480",
   "metadata": {},
   "outputs": [
    {
     "name": "stdout",
     "output_type": "stream",
     "text": [
      "[[ 0  0 48 ... 48 48 48]\n",
      " [ 0  0 48 ... 48 48 48]\n",
      " [ 0  0  0 ... 48  0  0]\n",
      " ...\n",
      " [48 48 48 ... 48 48 48]\n",
      " [48 48 48 ...  0  0  0]\n",
      " [48 48 48 ...  0  0  0]]\n"
     ]
    }
   ],
   "source": [
    "original_image = cv2.imread(\"../../../data/Fig0308(a)(fractured_spine).tif\", cv2.IMREAD_GRAYSCALE)\n",
    "cv2.imshow(\"Original Image\", original_image)\n",
    "\n",
    "tansformed_image = Gamma_Transform(original_image, .3)\n",
    "print(tansformed_image)\n",
    "cv2.imshow(\"Gamma Transformed Image\", tansformed_image)\n",
    "\n",
    "cv2.waitKey(0)\n",
    "cv2.destroyAllWindows()\n",
    "\n"
   ]
  }
 ],
 "metadata": {
  "kernelspec": {
   "display_name": "naveedVENV",
   "language": "python",
   "name": "python3"
  },
  "language_info": {
   "codemirror_mode": {
    "name": "ipython",
    "version": 3
   },
   "file_extension": ".py",
   "mimetype": "text/x-python",
   "name": "python",
   "nbconvert_exporter": "python",
   "pygments_lexer": "ipython3",
   "version": "3.9.0"
  }
 },
 "nbformat": 4,
 "nbformat_minor": 5
}
