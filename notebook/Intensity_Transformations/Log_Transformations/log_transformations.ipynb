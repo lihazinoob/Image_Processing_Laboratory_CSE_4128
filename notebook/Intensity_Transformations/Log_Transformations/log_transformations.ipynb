{
 "cells": [
  {
   "cell_type": "code",
   "execution_count": 3,
   "id": "1f0c49fc",
   "metadata": {},
   "outputs": [],
   "source": [
    "import cv2\n",
    "import numpy as np\n",
    "\n"
   ]
  },
  {
   "cell_type": "code",
   "execution_count": 1,
   "id": "99d2f3b9",
   "metadata": {},
   "outputs": [],
   "source": [
    "def log_transform(image):\n",
    "    c = 255/np.log1p(np.max(image)) \n",
    "    image = c*(np.log1p(1+image))\n",
    "    return image"
   ]
  },
  {
   "cell_type": "code",
   "execution_count": 4,
   "id": "f3cc65bc",
   "metadata": {},
   "outputs": [
    {
     "name": "stdout",
     "output_type": "stream",
     "text": [
      "[[31 31 31 ... 31 31 31]\n",
      " [31 31 31 ... 31 31 31]\n",
      " [31 31 31 ... 31 31 31]\n",
      " ...\n",
      " [31 31 31 ... 31 31 31]\n",
      " [31 31 31 ... 31 31 31]\n",
      " [31 31 31 ... 31 31 31]]\n"
     ]
    }
   ],
   "source": [
    "original_image = cv2.imread(\"../../../data/Fig0305(a)(DFT_no_log).tif\", cv2.IMREAD_GRAYSCALE)\n",
    "cv2.imshow(\"Original Image\", original_image)\n",
    "log_transformed_image = log_transform(original_image)\n",
    "log_transformed_image = np.clip(log_transformed_image, 0, 255).astype(np.uint8)\n",
    "print(log_transformed_image)\n",
    "cv2.imshow(\"Log Transformed Image\", log_transformed_image) \n",
    "\n",
    "cv2.waitKey(0)\n",
    "cv2.destroyAllWindows()"
   ]
  }
 ],
 "metadata": {
  "kernelspec": {
   "display_name": "naveedVENV",
   "language": "python",
   "name": "python3"
  },
  "language_info": {
   "codemirror_mode": {
    "name": "ipython",
    "version": 3
   },
   "file_extension": ".py",
   "mimetype": "text/x-python",
   "name": "python",
   "nbconvert_exporter": "python",
   "pygments_lexer": "ipython3",
   "version": "3.9.0"
  }
 },
 "nbformat": 4,
 "nbformat_minor": 5
}
