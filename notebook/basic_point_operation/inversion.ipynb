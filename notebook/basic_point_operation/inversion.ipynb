{
 "cells": [
  {
   "cell_type": "code",
   "execution_count": 1,
   "id": "56dd4892",
   "metadata": {},
   "outputs": [],
   "source": [
    "import cv2\n",
    "import numpy as np"
   ]
  },
  {
   "cell_type": "code",
   "execution_count": 22,
   "id": "52628d3b",
   "metadata": {},
   "outputs": [],
   "source": [
    "# Reading the image in the console\n",
    "image = cv2.imread(\"../../data/Lena.jpg\")\n",
    "# print(image)\n",
    "\n",
    "# getting the height , width and depth of an image\n",
    "height,width,color_channel= image.shape"
   ]
  },
  {
   "cell_type": "code",
   "execution_count": 23,
   "id": "710f5f62",
   "metadata": {},
   "outputs": [
    {
     "name": "stdout",
     "output_type": "stream",
     "text": [
      "[[[127 117  30]\n",
      "  [128 118  31]\n",
      "  [129 119  31]\n",
      "  ...\n",
      "  [129 110  19]\n",
      "  [145 126  35]\n",
      "  [169 151  58]]\n",
      "\n",
      " [[128 118  31]\n",
      "  [128 118  31]\n",
      "  [128 118  31]\n",
      "  ...\n",
      "  [125 105  20]\n",
      "  [143 123  38]\n",
      "  [172 153  66]]\n",
      "\n",
      " [[128 118  31]\n",
      "  [128 118  31]\n",
      "  [127 117  30]\n",
      "  ...\n",
      "  [128 107  25]\n",
      "  [143 122  40]\n",
      "  [170 150  65]]\n",
      "\n",
      " ...\n",
      "\n",
      " [[200 234 173]\n",
      "  [201 235 174]\n",
      "  [193 227 163]\n",
      "  ...\n",
      "  [173 184  80]\n",
      "  [177 187  80]\n",
      "  [181 190  80]]\n",
      "\n",
      " [[200 237 175]\n",
      "  [199 236 174]\n",
      "  [189 223 159]\n",
      "  ...\n",
      "  [173 186  78]\n",
      "  [175 184  74]\n",
      "  [174 183  72]]\n",
      "\n",
      " [[199 236 174]\n",
      "  [197 234 172]\n",
      "  [187 221 157]\n",
      "  ...\n",
      "  [174 187  79]\n",
      "  [174 183  72]\n",
      "  [171 181  67]]]\n"
     ]
    }
   ],
   "source": [
    "# defining a zero pixeled image like the original image\n",
    "image_after_operation = np.zeros_like(image,dtype=np.uint8)\n",
    "\n",
    "\n",
    "# Manual looping for inverting an image\n",
    "for y in range(height):\n",
    "  for x in range(width):\n",
    "    for z in range(color_channel):\n",
    "      # do the operation here\n",
    "      original_pixel_value = image[y,x,z]\n",
    "      new_pixel_value = 255-original_pixel_value\n",
    "      image_after_operation[y,x,z] = new_pixel_value \n",
    "      \n",
    "print(image_after_operation)\n",
    "cv2.imshow(\"Before inversion\",image)\n",
    "cv2.imshow(\"After inversion\",image_after_operation)\n",
    "cv2.waitKey(0)\n",
    "cv2.destroyAllWindows()"
   ]
  }
 ],
 "metadata": {
  "kernelspec": {
   "display_name": "naveedVENV",
   "language": "python",
   "name": "python3"
  },
  "language_info": {
   "codemirror_mode": {
    "name": "ipython",
    "version": 3
   },
   "file_extension": ".py",
   "mimetype": "text/x-python",
   "name": "python",
   "nbconvert_exporter": "python",
   "pygments_lexer": "ipython3",
   "version": "3.9.0"
  }
 },
 "nbformat": 4,
 "nbformat_minor": 5
}
