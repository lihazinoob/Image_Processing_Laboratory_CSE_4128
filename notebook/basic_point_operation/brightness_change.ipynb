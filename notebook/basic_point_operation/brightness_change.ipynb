{
 "cells": [
  {
   "cell_type": "code",
   "execution_count": 9,
   "id": "6556675e",
   "metadata": {},
   "outputs": [],
   "source": [
    "import cv2\n",
    "import numpy as np"
   ]
  },
  {
   "cell_type": "code",
   "execution_count": null,
   "id": "0cf4f325",
   "metadata": {},
   "outputs": [],
   "source": [
    "# Reading the image in the console\n",
    "image = cv2.imread(\"../../data/Lena.jpg\")\n",
    "# print(image)\n",
    "\n",
    "# getting the height , width and depth of an image\n",
    "height,width,color_channel = image.shape\n",
    "# print(height,width,color_channel)\n"
   ]
  },
  {
   "cell_type": "code",
   "execution_count": 6,
   "id": "31b52159",
   "metadata": {},
   "outputs": [
    {
     "name": "stdout",
     "output_type": "stream",
     "text": [
      "[4]\n"
     ]
    }
   ],
   "source": [
    "a = np.array([250],dtype=np.uint8)\n",
    "print(a + 10)  # This will print 4, as it wraps around"
   ]
  },
  {
   "cell_type": "code",
   "execution_count": null,
   "id": "6ff4ffa9",
   "metadata": {},
   "outputs": [],
   "source": [
    "# Parametes\n",
    "alpha = 1.2\n",
    "beta = 50\n",
    "\n",
    "# Convert the pixel value to float for precision\n",
    "image_float = np.float32(image)\n",
    "# print(\"floated Image\",image_float)\n",
    "\n",
    "# This is numpy operation to change every pixel\n",
    "image_after_operation = image_float *alpha + beta\n",
    "\n",
    "\n",
    "\n",
    "\n",
    "\n",
    "print(\"Image after operation\",image_after_operation)\n",
    "# apply the point operation on every pixel"
   ]
  },
  {
   "cell_type": "code",
   "execution_count": null,
   "id": "827c4df3",
   "metadata": {},
   "outputs": [],
   "source": [
    "# This is the manual process of looping through each pixel and do point operation\n",
    "\n",
    "# first create an empty output image\n",
    "image_after_manual_operation = np.zeros_like(image,dtype=np.float32)\n",
    "\n",
    "for y in range(height):\n",
    "  for x in range(width):\n",
    "    for z in range(color_channel):\n",
    "      # get the original pixel value\n",
    "      original_pixel_value = image_float[y,x,z]\n",
    "      \n",
    "      # now apply the point operation\n",
    "      new_pixel_value = original_pixel_value * alpha + beta\n",
    "      image_after_manual_operation[y,x,z] = new_pixel_value\n",
    "\n",
    "print(image_after_manual_operation)\n",
    "      "
   ]
  },
  {
   "cell_type": "code",
   "execution_count": 30,
   "id": "dc6cbe2b",
   "metadata": {},
   "outputs": [],
   "source": [
    "image_after_clipping = np.clip(image_after_manual_operation,0,255).astype(np.uint8)\n",
    "# print(\"Image after clipping\",image_after_clipping)\n",
    "cv2.imshow(\"Image after brightness adjustment\",image_after_clipping)\n",
    "cv2.imshow(\"Original Image\", image)\n",
    "cv2.waitKey(0)\n",
    "cv2.destroyAllWindows()\n"
   ]
  }
 ],
 "metadata": {
  "kernelspec": {
   "display_name": "naveedVENV",
   "language": "python",
   "name": "python3"
  },
  "language_info": {
   "codemirror_mode": {
    "name": "ipython",
    "version": 3
   },
   "file_extension": ".py",
   "mimetype": "text/x-python",
   "name": "python",
   "nbconvert_exporter": "python",
   "pygments_lexer": "ipython3",
   "version": "3.9.0"
  }
 },
 "nbformat": 4,
 "nbformat_minor": 5
}
