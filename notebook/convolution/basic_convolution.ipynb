{
 "cells": [
  {
   "cell_type": "code",
   "execution_count": null,
   "id": "406c8743",
   "metadata": {},
   "outputs": [],
   "source": [
    "import cv2\n",
    "import numpy as np\n"
   ]
  },
  {
   "cell_type": "code",
   "execution_count": 4,
   "id": "de1dec6d",
   "metadata": {},
   "outputs": [],
   "source": [
    "image = cv2.imread(\"../../data/Lena.jpg\",cv2.IMREAD_GRAYSCALE)\n",
    "\n",
    "# define the kernel\n",
    "kernel = np.array([\n",
    "    [0.075, 0.125, 0.075],\n",
    "    [0.125, 0.200, 0.25],\n",
    "    [0.075, 0.0025, 0.75]\n",
    "])\n",
    "\n",
    "anchor_row,anchor_col = 1,1"
   ]
  },
  {
   "cell_type": "code",
   "execution_count": 7,
   "id": "64deb6bb",
   "metadata": {},
   "outputs": [],
   "source": [
    "# Function for flipping the kernel manually\n",
    "def flip_kernel(kernel):\n",
    "  kernel_height,kernel_width = kernel.shape\n",
    "  flipped_kernel = np.zeros((kernel_height,kernel_width),dtype=kernel.dtype)\n",
    "  \n",
    "  for i in range(kernel_height):\n",
    "    for j in range(kernel_width):\n",
    "      flipped_kernel[i,j] = kernel[kernel_height-1-i,kernel_width-1-j]\n",
    "  \n",
    "  return flipped_kernel"
   ]
  },
  {
   "cell_type": "code",
   "execution_count": null,
   "id": "1da2b18f",
   "metadata": {},
   "outputs": [],
   "source": [
    "# Function for convolution\n",
    "def convolution(image,kernel,anchor_row,anchor_col):\n",
    "  \n",
    "  # Calculate the shape of image and kernel\n",
    "  height,width = image.shape\n",
    "  kernel_height,kernel_width = kernel.shape\n",
    "  \n",
    "  # Now we need to flip the kernel\n",
    "  flipped_kernel = flip_kernel(kernel)\n",
    "  \n",
    "  # Padding calculation\n",
    "  pad_top = anchor_row\n",
    "  pad_bottom = kernel_height -anchor_row -1\n",
    "  pad_left = anchor_col\n",
    "  pad_right = kernel_width - anchor_col - 1\n",
    "  \n",
    "  padded_image = cv2.copyMakeBorder(image, pad_top, pad_bottom, pad_left, pad_right, cv2.BORDER_CONSTANT)\n",
    "  \n",
    "  \n",
    "  #  Output image\n",
    "  output_image = np.zeros((height, width), dtype=np.float64)\n",
    "  \n",
    "  \n",
    "  # Do the convolution\n",
    "  for v in range(height):\n",
    "    for u in range(width):\n",
    "      total = 0.0\n",
    "      for j in range(kernel_height):\n",
    "        for i in range(kernel_width):\n",
    "          y = v + j\n",
    "          x = u + i\n",
    "          total = total + padded_image[y,x] * flipped_kernel[j,i]\n",
    "      \n",
    "      output_image[v,u] = int(round(total))\n",
    "      \n",
    "  output_image = np.round(output_image,None,0,255,cv2.NORM_MINMAX).astype(np.uint8)    \n",
    "  return output_image"
   ]
  },
  {
   "cell_type": "code",
   "execution_count": 17,
   "id": "83d49eb8",
   "metadata": {},
   "outputs": [
    {
     "name": "stdout",
     "output_type": "stream",
     "text": [
      "Filtered image shape: [[ 46  82  81 ...  84  77  50]\n",
      " [ 54 173 172 ... 181 170 128]\n",
      " [ 54 172 172 ... 180 172 130]\n",
      " ...\n",
      " [  6  42  41 ... 103 105  83]\n",
      " [  5  39  40 ... 105 106  86]\n",
      " [  0  29  31 ...  86  87  74]]\n"
     ]
    }
   ],
   "source": [
    "convolved_image = convolution(image = image, kernel = kernel, anchor_row = anchor_row, anchor_col = anchor_col)\n",
    "print(\"Filtered image shape:\", convolved_image)\n",
    "\n",
    "cv2.imshow(\"Original Image\", image)\n",
    "cv2.imshow(\"Filtered Image\", convolved_image)\n",
    "cv2.waitKey(0)\n",
    "cv2.destroyAllWindows()\n"
   ]
  }
 ],
 "metadata": {
  "kernelspec": {
   "display_name": "naveedVENV",
   "language": "python",
   "name": "python3"
  },
  "language_info": {
   "codemirror_mode": {
    "name": "ipython",
    "version": 3
   },
   "file_extension": ".py",
   "mimetype": "text/x-python",
   "name": "python",
   "nbconvert_exporter": "python",
   "pygments_lexer": "ipython3",
   "version": "3.9.0"
  }
 },
 "nbformat": 4,
 "nbformat_minor": 5
}
