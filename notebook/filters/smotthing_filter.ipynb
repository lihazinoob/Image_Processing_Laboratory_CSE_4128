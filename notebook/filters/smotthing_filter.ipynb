{
 "cells": [
  {
   "cell_type": "code",
   "execution_count": null,
   "id": "54116373",
   "metadata": {},
   "outputs": [],
   "source": [
    "# This program is a naive example of a smooth filter when the hotspot of the filter is at the center of the kernel.\n",
    "\n",
    "import cv2\n",
    "import numpy as np"
   ]
  },
  {
   "cell_type": "code",
   "execution_count": 4,
   "id": "4b051e4c",
   "metadata": {},
   "outputs": [],
   "source": [
    "# first read the image\n",
    "image = cv2.imread(\"../../data/Lena.jpg\",cv2.IMREAD_GRAYSCALE)\n",
    "\n",
    "# extracting the height and width of the image\n",
    "height,width = image.shape"
   ]
  },
  {
   "cell_type": "code",
   "execution_count": 11,
   "id": "08968002",
   "metadata": {},
   "outputs": [],
   "source": [
    "# Now the original image to another image\n",
    "copy = image.copy()\n",
    "# Create the output image\n",
    "ouput_image = image.copy()\n",
    "\n",
    "# defining the filter\n",
    "H = np.array([\n",
    "  [0.075, 0.125, 0.075],\n",
    "  [0.125, 0.200, 0.125],\n",
    "  [0.075, 0.125, 0.075]\n",
    "])\n",
    "kernel_height,kernel_width = H.shape\n"
   ]
  },
  {
   "cell_type": "code",
   "execution_count": 12,
   "id": "0fba5384",
   "metadata": {},
   "outputs": [],
   "source": [
    "\n",
    "# Looping through the image without considering the border of the image\n",
    "for u in range(1,height-2):\n",
    "  for v in range(1,width-2):\n",
    "    total = 0.0\n",
    "    # Now looping through the filter\n",
    "    for i in range(0,kernel_height):\n",
    "      for j in range(0,kernel_width):\n",
    "        # getting the pixel values of image of the neighbourhoods\n",
    "        image_pixel = copy[v+j,u+i]\n",
    "        # Getting the value of filter in the same postion\n",
    "        filter_pixel = H[j,i]\n",
    "        # do the filtering process\n",
    "        total = total + image_pixel * filter_pixel\n",
    "    #Rounding the value to the nearest integer\n",
    "    total = int(round(total))\n",
    "    ouput_image[v,u] = total\n",
    "      \n",
    "    \n",
    "    \n",
    "    "
   ]
  },
  {
   "cell_type": "code",
   "execution_count": 13,
   "id": "e90b3e91",
   "metadata": {},
   "outputs": [],
   "source": [
    "cv2.imshow(\"Original Image\",image)\n",
    "cv2.imshow(\"Filtered Image\",ouput_image)\n",
    "cv2.waitKey(0)\n",
    "cv2.destroyAllWindows()"
   ]
  }
 ],
 "metadata": {
  "kernelspec": {
   "display_name": "naveedVENV",
   "language": "python",
   "name": "python3"
  },
  "language_info": {
   "codemirror_mode": {
    "name": "ipython",
    "version": 3
   },
   "file_extension": ".py",
   "mimetype": "text/x-python",
   "name": "python",
   "nbconvert_exporter": "python",
   "pygments_lexer": "ipython3",
   "version": "3.9.0"
  }
 },
 "nbformat": 4,
 "nbformat_minor": 5
}
