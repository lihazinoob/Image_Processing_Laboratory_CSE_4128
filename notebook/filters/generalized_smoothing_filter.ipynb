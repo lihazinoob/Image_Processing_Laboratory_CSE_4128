{
 "cells": [
  {
   "cell_type": "code",
   "execution_count": 2,
   "id": "ebf0943f",
   "metadata": {},
   "outputs": [],
   "source": [
    "import cv2\n",
    "import numpy as np"
   ]
  },
  {
   "cell_type": "code",
   "execution_count": 8,
   "id": "c4433a58",
   "metadata": {},
   "outputs": [
    {
     "name": "stdout",
     "output_type": "stream",
     "text": [
      "Image shape: (512, 512)\n"
     ]
    }
   ],
   "source": [
    "# first read the image\n",
    "image = cv2.imread(\"../../data/Lena.jpg\",cv2.IMREAD_GRAYSCALE)\n",
    "# Now define the kernel\n",
    "H = np.array([\n",
    "    [0.075, 0.125, 0.075],\n",
    "    [0.125, 0.200, 0.125],\n",
    "    [0.075, 0.125, 0.075]\n",
    "])\n",
    "print(\"Image shape:\", image.shape)\n",
    "\n",
    "# Set the anchor here from the user or by the programmer\n",
    "anchor_row,anchor_col = 1,1\n"
   ]
  },
  {
   "cell_type": "code",
   "execution_count": 12,
   "id": "908b5c79",
   "metadata": {},
   "outputs": [],
   "source": [
    "def apply_filter(image, filter, anchor_row, anchor_col):\n",
    "    height, width = image.shape\n",
    "    kernel_height, kernel_width = filter.shape\n",
    "\n",
    "    # Padding info\n",
    "    pad_top = anchor_row\n",
    "    pad_bottom = kernel_height - anchor_row - 1\n",
    "    pad_left = anchor_col\n",
    "    pad_right = kernel_width - anchor_col - 1\n",
    "\n",
    "    # Create padded image\n",
    "    padded_image = np.zeros((height + pad_top + pad_bottom,\n",
    "                             width + pad_left + pad_right),\n",
    "                            dtype=np.uint8)\n",
    "    padded_image[pad_top:pad_top+height, pad_left:pad_left+width] = image\n",
    "\n",
    "    # Output image\n",
    "    output_image = np.zeros((height, width), dtype=np.uint8)\n",
    "\n",
    "    # Apply filter\n",
    "    for v in range(height):       # row\n",
    "        for u in range(width):    # col\n",
    "            total = 0.0\n",
    "            for j in range(kernel_height):\n",
    "                for i in range(kernel_width):\n",
    "                    y = v + j\n",
    "                    x = u + i\n",
    "                    image_pixel = padded_image[y, x]\n",
    "                    filter_pixel = filter[j, i]\n",
    "                    total += image_pixel * filter_pixel\n",
    "            output_image[v, u] = int(round(total))\n",
    "\n",
    "    return output_image\n"
   ]
  },
  {
   "cell_type": "code",
   "execution_count": 14,
   "id": "ac20f4c6",
   "metadata": {},
   "outputs": [
    {
     "name": "stdout",
     "output_type": "stream",
     "text": [
      "Filtered image shape: [[ 85 117 117 ... 121 110  73]\n",
      " [118 162 162 ... 167 152 100]\n",
      " [118 162 162 ... 167 152 101]\n",
      " ...\n",
      " [ 32  46  48 ... 102 101  73]\n",
      " [ 31  46  50 ... 103 104  76]\n",
      " [ 22  34  37 ...  75  76  56]]\n"
     ]
    }
   ],
   "source": [
    "filtered_image = apply_filter(image = image, filter = H, anchor_row = anchor_row, anchor_col = anchor_col)\n",
    "print(\"Filtered image shape:\", filtered_image)\n",
    "\n",
    "\n",
    "# Show the original and filtered image\n",
    "cv2.imshow(\"Original Image\", image)\n",
    "cv2.imshow(\"Filtered Image\", filtered_image)\n",
    "cv2.waitKey(0)\n",
    "cv2.destroyAllWindows()"
   ]
  }
 ],
 "metadata": {
  "kernelspec": {
   "display_name": "naveedVENV",
   "language": "python",
   "name": "python3"
  },
  "language_info": {
   "codemirror_mode": {
    "name": "ipython",
    "version": 3
   },
   "file_extension": ".py",
   "mimetype": "text/x-python",
   "name": "python",
   "nbconvert_exporter": "python",
   "pygments_lexer": "ipython3",
   "version": "3.9.0"
  }
 },
 "nbformat": 4,
 "nbformat_minor": 5
}
